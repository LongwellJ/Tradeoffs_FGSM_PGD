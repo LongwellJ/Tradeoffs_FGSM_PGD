{
  "nbformat": 4,
  "nbformat_minor": 0,
  "metadata": {
    "colab": {
      "provenance": [],
      "gpuType": "T4"
    },
    "kernelspec": {
      "name": "python3",
      "display_name": "Python 3"
    },
    "language_info": {
      "name": "python"
    },
    "accelerator": "GPU"
  },
  "cells": [
    {
      "cell_type": "code",
      "source": [
        "pip install cleverhans"
      ],
      "metadata": {
        "id": "T76JQmsYNYYL"
      },
      "execution_count": null,
      "outputs": []
    },
    {
      "cell_type": "markdown",
      "source": [
        "#Train models on MNIST with PGD or FGM technique"
      ],
      "metadata": {
        "id": "4rMW8uRX6Isi"
      }
    },
    {
      "cell_type": "markdown",
      "source": [
        "###Import packages, set seed"
      ],
      "metadata": {
        "id": "yY8JgVJEq_50"
      }
    },
    {
      "cell_type": "code",
      "source": [
        "import numpy as np\n",
        "import tensorflow as tf\n",
        "import tensorflow_datasets as tfds\n",
        "#from absl import app, flags\n",
        "from easydict import EasyDict\n",
        "from tensorflow.keras import Model\n",
        "from tensorflow.keras.layers import Dense, Dropout, Flatten, Conv2D\n",
        "import os\n",
        "from cleverhans.tf2.attacks.projected_gradient_descent import projected_gradient_descent\n",
        "from cleverhans.tf2.attacks.fast_gradient_method import fast_gradient_method\n",
        "from tensorflow import keras\n",
        "import matplotlib.pyplot as plt\n",
        "from tensorflow.keras.datasets import mnist, cifar10\n",
        "import random\n",
        "#set every seed possible seed\n",
        "random.seed(10)\n",
        "np.random.seed(10)\n",
        "tf.random.set_seed(10)"
      ],
      "metadata": {
        "id": "v2ZPvBP28dRS"
      },
      "execution_count": 2,
      "outputs": []
    },
    {
      "cell_type": "markdown",
      "source": [
        "###Define model architecture"
      ],
      "metadata": {
        "id": "6j8bLBVQrIcE"
      }
    },
    {
      "cell_type": "code",
      "source": [
        "class Net(Model):\n",
        "    def __init__(self):\n",
        "        super(Net, self).__init__()\n",
        "        self.conv1 = Conv2D(32, 3, strides=(1, 1), activation=\"relu\", padding=\"same\")\n",
        "        self.conv2 = Conv2D(64, 3, strides=(1, 1), activation=\"relu\", padding=\"valid\")\n",
        "        self.flatten = Flatten()\n",
        "        self.dense1 = Dense(64, activation=\"relu\")\n",
        "        self.dense2 = Dense(10, activation=\"softmax\")\n",
        "\n",
        "    def call(self, x):\n",
        "        x = self.conv1(x)\n",
        "        x = self.conv2(x)\n",
        "        x = self.flatten(x)\n",
        "        x = self.dense1(x)\n",
        "        return self.dense2(x)"
      ],
      "metadata": {
        "id": "lC8UDImVOeHp"
      },
      "execution_count": 3,
      "outputs": []
    },
    {
      "cell_type": "markdown",
      "source": [
        "### Define how we load in the data"
      ],
      "metadata": {
        "id": "lOko-J8hrXAD"
      }
    },
    {
      "cell_type": "code",
      "source": [
        "def ld_mnist():\n",
        "    \"\"\"Load training and test data.\"\"\"\n",
        "\n",
        "    def convert_types(image, label):\n",
        "        image = tf.cast(image, tf.float32)\n",
        "        image /= 255\n",
        "        return image, label\n",
        "\n",
        "    dataset, info = tfds.load(\n",
        "        \"mnist\", data_dir=\"gs://tfds-data/datasets\", with_info=True, as_supervised=True\n",
        "    )\n",
        "    mnist_train, mnist_test = dataset[\"train\"].take(10000), dataset[\"test\"].take(10000)   ## define how many samples from the set\n",
        "    mnist_train = mnist_train.map(convert_types).shuffle(30000).batch(160)  ## Set batch size\n",
        "    mnist_test = mnist_test.map(convert_types).batch(160)  ## Set batch size\n",
        "    return EasyDict(train=mnist_train, test=mnist_test)\n"
      ],
      "metadata": {
        "id": "twTU0Wb3rTvj"
      },
      "execution_count": 4,
      "outputs": []
    },
    {
      "cell_type": "markdown",
      "source": [
        "###Define function that trains the model"
      ],
      "metadata": {
        "id": "NIb5IMzQr0aq"
      }
    },
    {
      "cell_type": "code",
      "source": [
        "def main():\n",
        "    # Load training and test data\n",
        "    data = ld_mnist()\n",
        "    model = Net()\n",
        "    loss_object = tf.losses.SparseCategoricalCrossentropy(from_logits=False)\n",
        "    optimizer = tf.optimizers.Adam(learning_rate=0.001)\n",
        "\n",
        "    # Metrics to track the different accuracies.\n",
        "    train_loss = tf.metrics.Mean(name=\"train_loss\")\n",
        "    test_acc_clean = tf.metrics.SparseCategoricalAccuracy()\n",
        "    test_acc_fgsm = tf.metrics.SparseCategoricalAccuracy()\n",
        "    test_acc_pgd = tf.metrics.SparseCategoricalAccuracy()\n",
        "\n",
        "    @tf.function\n",
        "    def train_step(x, y):\n",
        "        with tf.GradientTape() as tape:\n",
        "            predictions = model(x)\n",
        "            loss = loss_object(y, predictions)\n",
        "        gradients = tape.gradient(loss, model.trainable_variables)\n",
        "        optimizer.apply_gradients(zip(gradients, model.trainable_variables))\n",
        "        train_loss(loss)\n",
        "\n",
        "    # Train model with adversarial training\n",
        "    for epoch in range(20):  ##define epochs\n",
        "        # keras like display of progress\n",
        "        progress_bar_train = tf.keras.utils.Progbar(30000) ## set how big the bar is\n",
        "        for (x, y) in data.train:\n",
        "            if True:\n",
        "                # Replace clean example with adversarial example for adversarial training\n",
        "                x = projected_gradient_descent(model, x, 0.3, 0.01, 30, np.inf)\n",
        "            train_step(x, y)\n",
        "            progress_bar_train.add(x.shape[0], values=[(\"loss\", train_loss.result())])\n",
        "\n",
        "    # Evaluate on clean and adversarial data\n",
        "    progress_bar_test = tf.keras.utils.Progbar(30000)\n",
        "    for x, y in data.test:\n",
        "        y_pred = model(x)\n",
        "        test_acc_clean(y, y_pred)\n",
        "\n",
        "        x_fgm = fast_gradient_method(model, x, 0.3, np.inf)\n",
        "        y_pred_fgm = model(x_fgm)\n",
        "        test_acc_fgsm(y, y_pred_fgm)\n",
        "\n",
        "        x_pgd = projected_gradient_descent(model, x, 0.3, 0.01, 30, np.inf)\n",
        "        y_pred_pgd = model(x_pgd)\n",
        "        test_acc_pgd(y, y_pred_pgd)\n",
        "\n",
        "        progress_bar_test.add(x.shape[0])\n",
        "\n",
        "    print(\n",
        "        \"test acc on clean examples (%): {:.3f}\".format(test_acc_clean.result() * 100)\n",
        "    )\n",
        "    print(\n",
        "        \"test acc on FGM adversarial examples (%): {:.3f}\".format(\n",
        "            test_acc_fgsm.result() * 100\n",
        "        )\n",
        "    )\n",
        "    print(\n",
        "        \"test acc on PGD adversarial examples (%): {:.3f}\".format(\n",
        "            test_acc_pgd.result() * 100\n",
        "        )\n",
        "    )\n",
        "    return model, data"
      ],
      "metadata": {
        "id": "8hQBf8YASUcV"
      },
      "execution_count": 5,
      "outputs": []
    },
    {
      "cell_type": "markdown",
      "source": [],
      "metadata": {
        "id": "twDybdNir875"
      }
    },
    {
      "cell_type": "markdown",
      "source": [
        "### Train model"
      ],
      "metadata": {
        "id": "1k6GAmJZD293"
      }
    },
    {
      "cell_type": "code",
      "source": [
        "if __name__ == \"__main__\":\n",
        "\n",
        "  model, data =main()"
      ],
      "metadata": {
        "colab": {
          "base_uri": "https://localhost:8080/"
        },
        "id": "IE_teXUgSYIV",
        "outputId": "bfe1e1f0-be44-4d5a-f031-fb42d81c0447"
      },
      "execution_count": 171,
      "outputs": [
        {
          "output_type": "stream",
          "name": "stdout",
          "text": [
            "10000/30000 [=========>....................] - ETA: 28stest acc on clean examples (%): 98.010\n",
            "test acc on FGM adversarial examples (%): 92.000\n",
            "test acc on PGD adversarial examples (%): 88.510\n"
          ]
        }
      ]
    },
    {
      "cell_type": "markdown",
      "source": [
        "# Save model"
      ],
      "metadata": {
        "id": "GrDDQ1oGD6-O"
      }
    },
    {
      "cell_type": "code",
      "source": [
        "from google.colab import drive\n",
        "drive.mount('/content/drive')"
      ],
      "metadata": {
        "colab": {
          "base_uri": "https://localhost:8080/"
        },
        "id": "TNmrgm-tubNw",
        "outputId": "379a9b54-3412-41af-c98d-4b5bccb303cb"
      },
      "execution_count": 16,
      "outputs": [
        {
          "output_type": "stream",
          "name": "stdout",
          "text": [
            "Drive already mounted at /content/drive; to attempt to forcibly remount, call drive.mount(\"/content/drive\", force_remount=True).\n"
          ]
        }
      ]
    },
    {
      "cell_type": "code",
      "source": [
        "model.save_weights('/content/drive/MyDrive/Secure_models/PGD160')\n"
      ],
      "metadata": {
        "id": "rV_svnPLYFLY"
      },
      "execution_count": 137,
      "outputs": []
    },
    {
      "cell_type": "markdown",
      "source": [
        "## Redefine model\n"
      ],
      "metadata": {
        "id": "pD0SSkXLD99-"
      }
    },
    {
      "cell_type": "code",
      "source": [
        "# Create a new model instance\n",
        "model = Net()\n",
        "# Restore the weights\n",
        "model.load_weights('/content/drive/MyDrive/Secure_models/PGD10240')"
      ],
      "metadata": {
        "colab": {
          "base_uri": "https://localhost:8080/"
        },
        "id": "vPS-aTRuarXr",
        "outputId": "eba6298d-0882-46de-8f85-5b1ed37c9335"
      },
      "execution_count": 166,
      "outputs": [
        {
          "output_type": "execute_result",
          "data": {
            "text/plain": [
              "<tensorflow.python.checkpoint.checkpoint.CheckpointLoadStatus at 0x7a3c0973ceb0>"
            ]
          },
          "metadata": {},
          "execution_count": 166
        }
      ]
    },
    {
      "cell_type": "markdown",
      "source": [
        "## turn easy dict to np array"
      ],
      "metadata": {
        "id": "gnKvhqq-I3uY"
      }
    },
    {
      "cell_type": "code",
      "source": [
        "#dataset = data.train\n",
        "dataset = data.test\n",
        "# Initialize lists to store images and labels\n",
        "images = []\n",
        "labels = []\n",
        "# Iterate through the dataset\n",
        "for img_tensor, label_tensor in dataset:\n",
        "    # Convert tensors to numpy arrays and append to lists\n",
        "    images.append(img_tensor.numpy())\n",
        "    labels.append(label_tensor.numpy())\n",
        "\n",
        "# Convert lists to numpy arrays\n",
        "images_np = np.array(images)\n",
        "labels_np = np.array(labels)"
      ],
      "metadata": {
        "id": "c8m6__g3Jria",
        "colab": {
          "base_uri": "https://localhost:8080/"
        },
        "outputId": "0c836a3f-9f0d-40a3-beba-f61b7fd643cb"
      },
      "execution_count": 179,
      "outputs": [
        {
          "output_type": "stream",
          "name": "stderr",
          "text": [
            "<ipython-input-179-3e9b74d9aac5>:13: VisibleDeprecationWarning: Creating an ndarray from ragged nested sequences (which is a list-or-tuple of lists-or-tuples-or ndarrays with different lengths or shapes) is deprecated. If you meant to do this, you must specify 'dtype=object' when creating the ndarray.\n",
            "  images_np = np.array(images)\n",
            "<ipython-input-179-3e9b74d9aac5>:14: VisibleDeprecationWarning: Creating an ndarray from ragged nested sequences (which is a list-or-tuple of lists-or-tuples-or ndarrays with different lengths or shapes) is deprecated. If you meant to do this, you must specify 'dtype=object' when creating the ndarray.\n",
            "  labels_np = np.array(labels)\n"
          ]
        }
      ]
    },
    {
      "cell_type": "markdown",
      "source": [
        "##Define dataframe to store results"
      ],
      "metadata": {
        "id": "EeBBtEDX7Kz2"
      }
    },
    {
      "cell_type": "code",
      "source": [
        "import pandas as pd\n",
        "df = pd.DataFrame(columns=['train', 'test'])\n",
        "df['train'] = []\n",
        "df['test'] = []\n"
      ],
      "metadata": {
        "id": "3UfkEa7scWor"
      },
      "execution_count": 173,
      "outputs": []
    },
    {
      "cell_type": "markdown",
      "source": [
        "## Testing membership accuracy attack"
      ],
      "metadata": {
        "id": "A3LedGa7Ist5"
      }
    },
    {
      "cell_type": "code",
      "source": [
        "# Define the membership score function\n",
        "def membership_score(model, image, true_label):\n",
        "    prediction = model.predict(image[np.newaxis, :])\n",
        "    #print(prediction)\n",
        "    score = np.mean(prediction[:, true_label])\n",
        "    return score"
      ],
      "metadata": {
        "id": "0hsxb4_BP9Il"
      },
      "execution_count": 174,
      "outputs": []
    },
    {
      "cell_type": "markdown",
      "source": [
        "###Get average of the set"
      ],
      "metadata": {
        "id": "NT8ZQE4B2hxm"
      }
    },
    {
      "cell_type": "code",
      "source": [
        "total = 0\n",
        "totalscore = 0\n",
        "for i in range(62):\n",
        "  for j in range(160):\n",
        "    score = membership_score(model, images_np[i][j], labels_np[i][j])\n",
        "    #df.loc[total]=[score,0]\n",
        "    df['test'].iloc[total]=score\n",
        "    totalscore+=score\n",
        "    total+=1\n",
        "\n",
        "print(totalscore/total)"
      ],
      "metadata": {
        "id": "eKuS2qKk2kbG"
      },
      "execution_count": null,
      "outputs": []
    },
    {
      "cell_type": "markdown",
      "source": [
        "## Plot results if you'd like"
      ],
      "metadata": {
        "id": "hLC6KMSB7Sd2"
      }
    },
    {
      "cell_type": "code",
      "source": [
        "# Plotting\n",
        "plt.hist(df['train'], alpha=0.5, label='Train', color='blue')\n",
        "plt.hist(df['test'], alpha=0.5, label='Test', color='red')\n",
        "\n",
        "\n",
        "plt.xlabel('Values')\n",
        "plt.ylabel('Frequency')\n",
        "plt.title('Train vs Test Histogram')\n",
        "plt.legend()\n",
        "plt.savefig('myplot.png')\n",
        "plt.show()"
      ],
      "metadata": {
        "colab": {
          "base_uri": "https://localhost:8080/",
          "height": 472
        },
        "id": "ZpxLplCygYtd",
        "outputId": "343c96c7-fd8e-4ce1-9a6a-b4675ae99e90"
      },
      "execution_count": 181,
      "outputs": [
        {
          "output_type": "display_data",
          "data": {
            "text/plain": [
              "<Figure size 640x480 with 1 Axes>"
            ],
            "image/png": "[encoded data removed]"
          },
          "metadata": {}
        }
      ]
    },
    {
      "cell_type": "markdown",
      "source": [
        "## Test/train accuracy"
      ],
      "metadata": {
        "id": "ddoj4C37fPyQ"
      }
    },
    {
      "cell_type": "code",
      "source": [
        "total = 0\n",
        "correct = 0\n",
        "for i in range(33,62):\n",
        "  for j in range(160):\n",
        "    total+=1\n",
        "\n",
        "    score = membership_score(model, images_np[i][j], labels_np[i][j])\n",
        "\n",
        "    #print(score)\n",
        "    if score <= 0.977666825:\n",
        "      correct+=1\n",
        "print(correct/total)"
      ],
      "metadata": {
        "id": "5c3HpNufQCNC"
      },
      "execution_count": null,
      "outputs": []
    },
    {
      "cell_type": "code",
      "source": [
        "test_image=images_np[0][0]\n",
        "\n",
        "# Compute the membership score for the test image\n",
        "score = membership_score(model, test_image, labels_np[0][0])\n",
        "\n",
        "# Plot the test image and print the membership score\n",
        "plt.imshow(test_image)\n",
        "plt.axis('off')\n",
        "plt.show()\n",
        "print('Membership score:', score)"
      ],
      "metadata": {
        "colab": {
          "base_uri": "https://localhost:8080/",
          "height": 441
        },
        "id": "1piBAx5OzxSx",
        "outputId": "e658f1da-0dce-4132-bec1-8f9fa780c5b4"
      },
      "execution_count": null,
      "outputs": [
        {
          "output_type": "stream",
          "name": "stdout",
          "text": [
            "1/1 [==============================] - 0s 30ms/step\n"
          ]
        },
        {
          "output_type": "display_data",
          "data": {
            "text/plain": [
              "<Figure size 640x480 with 1 Axes>"
            ],
            "image/png": "[encoded data removed]"
          },
          "metadata": {}
        },
        {
          "output_type": "stream",
          "name": "stdout",
          "text": [
            "Membership score: 0.9999248\n"
          ]
        }
      ]
    }
  ]
}